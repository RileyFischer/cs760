{
 "cells": [
  {
   "cell_type": "code",
   "execution_count": 17,
   "metadata": {},
   "outputs": [],
   "source": [
    "import pandas as pd\n",
    "import numpy as np\n",
    "import matplotlib.pyplot as plt"
   ]
  },
  {
   "cell_type": "code",
   "execution_count": 18,
   "metadata": {},
   "outputs": [],
   "source": [
    "class TreeNode:\n",
    "    def __init__(self,leaf,spt):\n",
    "        self.leaf=leaf\n",
    "        self.spt_vals= spt\n",
    "        self.label= None\n",
    "        self.l= None\n",
    "        self.r= None\n",
    "        \n",
    "    def print_n(self,spt, level=0, text=''):\n",
    "        print(\"Level:\",level)\n",
    "        if self.leaf:\n",
    "            print('%s , predict y = %d' % (text, self.label))\n",
    "        else:\n",
    "            j,c= spt\n",
    "            print('%s x%d > %f' % (text, j, c))\n",
    "            \n",
    "            self.l.print_n(self.l.spt_vals,level+1, 'Left')\n",
    "            self.r.print_n(self.r.spt_vals,level+1, 'Right')\n",
    " "
   ]
  },
  {
   "cell_type": "code",
   "execution_count": 19,
   "metadata": {},
   "outputs": [],
   "source": [
    "class DecTree:\n",
    "    def entropy(self,df):\n",
    "        if (len(df)==0):\n",
    "            return 0\n",
    "        p1 = np.mean(df[:,-1],axis=0)\n",
    "        if (p1==0 or p1==1):\n",
    "            return 0\n",
    "        p2 = 1-p1\n",
    "        return -1*((p1*np.log2(p1))+(p2*np.log2(p2)))\n",
    "\n",
    "    def calc_gain(self,df,spt): \n",
    "        j,c = spt\n",
    "        target = self.entropy(df)\n",
    "        \n",
    "        spt1 = df[df[:,int(j)]>=c]\n",
    "        spt2 = df[df[:,int(j)]<c]\n",
    "        \n",
    "        entropy1 = self.entropy(spt1)\n",
    "        entropy2 = self.entropy(spt2)\n",
    "        \n",
    "        p1 = len(spt1)/len(df)\n",
    "        p2 = 1-p1\n",
    "        \n",
    "        return target - ((len(spt1)/len(df)*entropy1)+((1-len(spt1)/len(df))*entropy2))\n",
    "    \n",
    "    def calc_spt_entropy(self,df,spt):\n",
    "        j,c= spt\n",
    "        spt1= (df[:,int(j)]>=c).astype('float')\n",
    "        spt2= (df[:,int(j)]<c).astype('float')\n",
    "        p1= spt1.sum()/len(spt1)\n",
    "        \n",
    "        if (p1==0 or p1==1):\n",
    "            return 0\n",
    "        p2= 1-p1\n",
    "        \n",
    "        return -(p1*np.log2(p1)) -(p2*np.log2(p2))\n",
    "    \n",
    "    def get_spts(self,df):\n",
    "        spts= []\n",
    "        num_feats = df.shape[1]-1\n",
    "        for col in range(num_feats):\n",
    "            df_sort = df[df[:,col].argsort()]\n",
    "            spts.append((col,df_sort[0,col]))\n",
    "            \n",
    "            for i in range(df_sort.shape[0]-1):\n",
    "                if (df_sort[i,col] != df_sort[i+1,col]):\n",
    "                    spts.append((col,df_sort[i+1,col]))\n",
    "        \n",
    "        return np.array(spts)\n",
    "    \n",
    "    def calc_spts(self,df,spts):\n",
    "        for spt in spts:\n",
    "            infogain = self.calc_gain(df,spt)\n",
    "            spt_ent = self.calc_spt_entropy(df,spt)\n",
    "            \n",
    "            if (spt_ent > 0.0):\n",
    "                gainratio = infogain/spt_ent\n",
    "                print(\"x:\"+str(int(spt[0]))+\" > \"+str(spt[1]),\"Gain ratio: \"+str(gainratio))\n",
    "            \n",
    "            else:\n",
    "                print(\"x:\"+str(int(spt[0]))+\" > \"+str(spt[1]),\"InfoGain:\",infogain)\n",
    "                \n",
    "    def make_subtree(self,df):\n",
    "        spts = self.get_spts(df)\n",
    "        threshold = 0.001\n",
    "        max_gain_ratio = 0.0\n",
    "        max_spt = None\n",
    "        \n",
    "        \n",
    "        for spt in spts:\n",
    "            j,c = spt\n",
    "            if (df[df[:,int(j)]>=c].shape[0]==0):\n",
    "                continue\n",
    "            if (np.unique(df[:,-1]).shape[0]==1):\n",
    "                continue\n",
    "            \n",
    "            infogain = self.calc_gain(df,spt)\n",
    "            spt_ent = self.calc_spt_entropy(df,spt)\n",
    "            \n",
    "            if (spt_ent > threshold):\n",
    "                gainratio = infogain/spt_ent\n",
    "                \n",
    "                if (gainratio > max_gain_ratio):\n",
    "                    max_gain_ratio = gainratio\n",
    "                    max_spt = spt\n",
    "            \n",
    "            else:\n",
    "                continue\n",
    "        \n",
    "        if (max_spt is None):\n",
    "            leaf = TreeNode(True,max_spt)\n",
    "            leaf.label = 0 if sum(df[:,-1]==0) > sum(df[:,-1]==1) else 1\n",
    "            return leaf\n",
    "        node = TreeNode(False,max_spt)\n",
    "        j,c = max_spt\n",
    "        node.l= self.make_subtree(df[df[:,int(j)] >= c])\n",
    "        node.r= self.make_subtree(df[df[:,int(j)] < c])\n",
    "        \n",
    "        return node\n",
    "    \n",
    "    def calc_error(self,root,test_df):\n",
    "        count= 0\n",
    "        for i in range(len(test_df)):\n",
    "            pred= self.new_label(root,test_df[i,:])\n",
    "            if (pred!= test_df[i,-1]):\n",
    "                count+= 1\n",
    "        return count/len(test_df)\n",
    "    \n",
    "    def count_num_node(self,node):\n",
    "        l= 0\n",
    "        r= 0\n",
    "        if node.l is not None:\n",
    "            l= self.count_num_node(node.l)\n",
    "        if node.r is not None:\n",
    "            r= self.count_num_node(node.r)\n",
    "        return l+r+1\n",
    "    \n",
    "    def count_leaves(self,node):\n",
    "        l= 0\n",
    "        r= 0\n",
    "        if node.leaf:\n",
    "            return 1\n",
    "        if node.l is not None:\n",
    "            l = self.count_leaves(node.l)\n",
    "        if node.r is not None:\n",
    "            r = self.count_leaves(node.r)\n",
    "        return l + r\n",
    "    \n",
    "    def plot_boundary(self,df,root,num,title=None,filename=None):\n",
    "        x_mins= df.min(axis=0)\n",
    "        x_maxs= df.max(axis=0)\n",
    "       \n",
    "        x0_vals= np.linspace(x_mins[0],x_maxs[0],num)\n",
    "        x1_vals= np.linspace(x_mins[1],x_maxs[1],num)\n",
    "        \n",
    "        xx, yy = np.meshgrid(x0_vals, x1_vals)\n",
    "        xx= xx.flatten()\n",
    "        yy= yy.flatten()\n",
    "        xx= xx.reshape((len(xx), 1))\n",
    "        yy= yy.reshape((len(yy), 1))\n",
    "        \n",
    "        c0 = []\n",
    "        c1 = []\n",
    "        for i in range(len(xx)):\n",
    "            pred = self.new_label(root,[xx[i],yy[i]])\n",
    "            if (pred==0):\n",
    "                c0.append([xx[i],yy[i]])\n",
    "            else:\n",
    "                c1.append([xx[i],yy[i]])\n",
    "        c0 = np.array(c0)\n",
    "        c1 = np.array(c1)\n",
    "        plt.scatter(c0[:,0],c0[:,1],color='g')\n",
    "        plt.scatter(c1[:,0],c1[:,1],color='b')\n",
    "        if (title is not None):\n",
    "            plt.title(title)\n",
    "        if (filename is None):\n",
    "            plt.show()\n",
    "        else:\n",
    "            plt.savefig(filename)\n",
    "        return\n",
    "    \n",
    "    def new_label(self,root,new_df):\n",
    "        node = root\n",
    "        while not node.leaf:\n",
    "            (j, c) = node.spt_vals\n",
    "            node = node.l if new_df[int(j)] >= c else node.r\n",
    "        return node.label\n"
   ]
  },
  {
   "cell_type": "code",
   "execution_count": 20,
   "metadata": {},
   "outputs": [
    {
     "data": {
      "image/png": "[encoded data removed]",
      "text/plain": [
       "<Figure size 432x288 with 1 Axes>"
      ]
     },
     "metadata": {
      "needs_background": "light"
     },
     "output_type": "display_data"
    }
   ],
   "source": [
    "df_big= np.array(pd.read_csv('data\\Dbig.txt', sep='\\s+', header=None))\n",
    "\n",
    "np.random.shuffle(df_big)\n",
    "df_test = df_big[8192:,:]\n",
    "df_big = df_big[:8192,:]\n",
    "nodes= []\n",
    "errs= []\n",
    "\n",
    "\n",
    "size_set= np.array([32,128,512,2048,8192]).reshape(5,1)\n",
    "dt= DecTree()\n",
    "for size in size_set:\n",
    "    df_train= df_big[:size[0],:]\n",
    "    root= dt.make_subtree(df_train)\n",
    "    dt.plot_boundary(df_train,root,100,\"Size \"+str(size)+\" Boundary\",filename=\"size_\"+str(size)+\"_boundary.png\")\n",
    "    nodes.append(dt.count_num_node(root))\n",
    "    errs.append(dt.calc_error(root,df_test))"
   ]
  },
  {
   "cell_type": "code",
   "execution_count": 5,
   "metadata": {},
   "outputs": [
    {
     "name": "stdout",
     "output_type": "stream",
     "text": [
      "     Size      n       err\n",
      "0    32.0   13.0  0.155420\n",
      "1   128.0   25.0  0.089602\n",
      "2   512.0   69.0  0.082412\n",
      "3  2048.0  133.0  0.049779\n",
      "4  8192.0  273.0  0.021018\n"
     ]
    }
   ],
   "source": [
    "nodes= np.array(nodes).reshape(5,1)\n",
    "errs= np.array(errs).reshape(5,1)\n",
    "\n",
    "temp= np.concatenate((size_set,nodes,errs),axis=1)\n",
    "df= pd.DataFrame(data=temp,columns=['Size','n','err'])\n",
    "print(df)"
   ]
  },
  {
   "cell_type": "code",
   "execution_count": 10,
   "metadata": {},
   "outputs": [
    {
     "data": {
      "text/plain": [
       "Text(0, 0.5, 'Error')"
      ]
     },
     "execution_count": 10,
     "metadata": {},
     "output_type": "execute_result"
    },
    {
     "data": {
      "image/png": "[encoded data removed]",
      "text/plain": [
       "<Figure size 432x288 with 1 Axes>"
      ]
     },
     "metadata": {
      "needs_background": "light"
     },
     "output_type": "display_data"
    }
   ],
   "source": [
    "plt.plot(nodes,errs)\n",
    "plt.xlabel(\"n\")\n",
    "plt.ylabel(\"Error\")"
   ]
  },
  {
   "cell_type": "code",
   "execution_count": 13,
   "metadata": {},
   "outputs": [
    {
     "name": "stdout",
     "output_type": "stream",
     "text": [
      "     size  nodes       err\n",
      "0    32.0    9.0  0.116704\n",
      "1   128.0   19.0  0.083518\n",
      "2   512.0   49.0  0.054757\n",
      "3  2048.0   97.0  0.023783\n",
      "4  8192.0  231.0  0.011062\n"
     ]
    }
   ],
   "source": [
    "from sklearn.tree import DecisionTreeClassifier as DTC\n",
    "nodes_sklearn= []\n",
    "errs_sklearn= []\n",
    "\n",
    "dtc= DTC(criterion='entropy')\n",
    "for size in size_set:\n",
    "    df_train = df_big[:size[0],:]\n",
    "    dtc.fit(df_train[:,:-1],df_train[:,-1])\n",
    "    errs_sklearn.append(1-dtc.score(df_test[:,:-1],df_test[:,-1]))\n",
    "    \n",
    "    nodes_sklearn.append(dtc.tree_.node_count)\n",
    "    \n",
    "nodes_sklearn= np.array(nodes_sklearn).reshape(5,1)\n",
    "\n",
    "errs_sklearn= np.array(errs_sklearn).reshape(5,1)\n",
    "temp= np.concatenate((size_set,nodes_sklearn,errs_sklearn),axis=1)\n",
    "df= pd.DataFrame(data=temp,columns=['size','nodes','err'])\n",
    "print(df)"
   ]
  },
  {
   "cell_type": "code",
   "execution_count": 16,
   "metadata": {},
   "outputs": [
    {
     "data": {
      "text/plain": [
       "Text(0, 0.5, 'Error')"
      ]
     },
     "execution_count": 16,
     "metadata": {},
     "output_type": "execute_result"
    },
    {
     "data": {
      "image/png": "[encoded data removed]",
      "text/plain": [
       "<Figure size 432x288 with 1 Axes>"
      ]
     },
     "metadata": {
      "needs_background": "light"
     },
     "output_type": "display_data"
    }
   ],
   "source": [
    "plt.plot(nodes_sklearn,errs_sklearn)\n",
    "plt.xlabel(\"N\")\n",
    "plt.ylabel(\"Error\")"
   ]
  },
  {
   "cell_type": "code",
   "execution_count": null,
   "metadata": {},
   "outputs": [],
   "source": []
  }
 ],
 "metadata": {
  "kernelspec": {
   "display_name": "Python 3",
   "language": "python",
   "name": "python3"
  },
  "language_info": {
   "codemirror_mode": {
    "name": "ipython",
    "version": 3
   },
   "file_extension": ".py",
   "mimetype": "text/x-python",
   "name": "python",
   "nbconvert_exporter": "python",
   "pygments_lexer": "ipython3",
   "version": "3.7.9"
  }
 },
 "nbformat": 4,
 "nbformat_minor": 4
}
